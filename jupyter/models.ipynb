{
 "cells": [
  {
   "cell_type": "code",
   "execution_count": null,
   "metadata": {
    "collapsed": true,
    "pycharm": {
     "is_executing": true
    }
   },
   "outputs": [],
   "source": [
    "import pickle\n",
    "import numpy as np\n",
    "from keras.applications.mobilenet_v2 import MobileNetV2\n",
    "from keras.models import Sequential, load_model\n",
    "from keras.layers import Conv2D, MaxPooling2D, Flatten, Dense, Dropout\n",
    "from keras.callbacks import EarlyStopping, ModelCheckpoint\n",
    "import matplotlib.pyplot as plt\n",
    "import seaborn as sns\n",
    "from sklearn.metrics import accuracy_score"
   ]
  },
  {
   "cell_type": "code",
   "execution_count": 2,
   "outputs": [],
   "source": [
    "# declare fews variables\n",
    "\n",
    "data_path = \"../asset/data/\"\n",
    "image_shape = (224, 224, 3)\n",
    "epochs = 50\n",
    "callback = lambda x: [EarlyStopping(monitor='val_loss', patience=2, mode=\"min\"), ModelCheckpoint(filepath=f\"{data_path}{x}_model.h5\", monitor='val_loss', save_best_only=True)]"
   ],
   "metadata": {
    "collapsed": false,
    "pycharm": {
     "name": "#%%\n"
    }
   }
  },
  {
   "cell_type": "code",
   "execution_count": 3,
   "outputs": [],
   "source": [
    "# helper function\n",
    "\n",
    "def show_result(steps: dict):\n",
    "    \"\"\"\n",
    "    Used to display model's results after his training\n",
    "    :param steps: contains all the history of the training model\n",
    "    \"\"\"\n",
    "    fig, ax = plt.subplots(figsize=(7, 7))\n",
    "    ax.set_title(\"Learning curves\")\n",
    "    ax.set(xlabel='Epochs', ylabel='Metrics')\n",
    "    sns.lineplot(x=range(len(steps[\"loss\"])), y=steps[\"loss\"], label=\"train loss\", ax=ax)\n",
    "    sns.lineplot(x=range(len(steps[\"loss\"])), y=steps[\"val_loss\"], label=\"val loss\", ax=ax)\n",
    "    sns.lineplot(x=range(len(steps[\"loss\"])), y=steps[\"accuracy\"], label=\"train accuracy\", ax=ax)\n",
    "    sns.lineplot(x=range(len(steps[\"loss\"])), y=steps[\"val_accuracy\"], label=\"val accuracy\", ax=ax)"
   ],
   "metadata": {
    "collapsed": false,
    "pycharm": {
     "name": "#%%\n"
    }
   }
  },
  {
   "cell_type": "markdown",
   "source": [
    "## I - Load data"
   ],
   "metadata": {
    "collapsed": false,
    "pycharm": {
     "name": "#%% md\n"
    }
   }
  },
  {
   "cell_type": "code",
   "execution_count": 4,
   "outputs": [],
   "source": [
    "with open(f'{data_path}train_test_split.pickle', 'rb') as handle:\n",
    "    data = pickle.load(handle)\n",
    "\n",
    "X_train, y_train = data[\"train\"]\n",
    "X_test, y_test = data[\"test\"]"
   ],
   "metadata": {
    "collapsed": false,
    "pycharm": {
     "name": "#%%\n"
    }
   }
  },
  {
   "cell_type": "markdown",
   "source": [
    "## II - Custom CNN model"
   ],
   "metadata": {
    "collapsed": false,
    "pycharm": {
     "name": "#%% md\n"
    }
   }
  },
  {
   "cell_type": "code",
   "execution_count": 5,
   "outputs": [],
   "source": [
    "model = Sequential()\n",
    "model.add(Conv2D(32, (3, 3), activation=\"relu\", input_shape=image_shape))\n",
    "model.add(MaxPooling2D((2, 2)))\n",
    "\n",
    "model.add(Conv2D(32, (3, 3), activation=\"relu\"))\n",
    "model.add(MaxPooling2D((2, 2)))\n",
    "\n",
    "model.add(Conv2D(64, (3, 3), activation=\"relu\"))\n",
    "model.add(MaxPooling2D(pool_size=(2, 2)))\n",
    "\n",
    "model.add(Flatten())\n",
    "\n",
    "model.add(Dense(64, activation=\"relu\"))\n",
    "model.add(Dropout(0.5))\n",
    "model.add(Dense(1, activation=\"sigmoid\"))\n",
    "\n",
    "model.compile(loss='binary_crossentropy', optimizer='adam', metrics=['accuracy'])"
   ],
   "metadata": {
    "collapsed": false,
    "pycharm": {
     "name": "#%%\n"
    }
   }
  },
  {
   "cell_type": "code",
   "execution_count": 6,
   "outputs": [
    {
     "name": "stdout",
     "output_type": "stream",
     "text": [
      "Epoch 1/50\n",
      "174/174 [==============================] - 136s 766ms/step - loss: 0.4876 - accuracy: 0.7803 - val_loss: 0.3813 - val_accuracy: 0.8391\n",
      "Epoch 2/50\n",
      "174/174 [==============================] - 133s 762ms/step - loss: 0.3935 - accuracy: 0.8421 - val_loss: 0.3992 - val_accuracy: 0.8350\n",
      "Epoch 3/50\n",
      "174/174 [==============================] - 130s 745ms/step - loss: 0.3516 - accuracy: 0.8594 - val_loss: 0.4066 - val_accuracy: 0.8167\n"
     ]
    },
    {
     "data": {
      "text/plain": "<Figure size 504x504 with 1 Axes>",
      "image/png": "[encoded data removed]"
     },
     "metadata": {
      "needs_background": "light"
     },
     "output_type": "display_data"
    }
   ],
   "source": [
    "hist = model.fit(X_train, y_train, epochs=50, validation_split=.15, callbacks=callback(\"CNet\"), verbose=1).history\n",
    "show_result(hist)"
   ],
   "metadata": {
    "collapsed": false,
    "pycharm": {
     "name": "#%%\n"
    }
   }
  },
  {
   "cell_type": "code",
   "execution_count": 7,
   "outputs": [
    {
     "name": "stdout",
     "output_type": "stream",
     "text": [
      "Accuracy test set: 0.8326206475259621\n"
     ]
    }
   ],
   "source": [
    "model = load_model(data_path + \"CNet_model.h5\")\n",
    "y_pred = model.predict(X_test)\n",
    "y_pred[y_pred <= 0.5], y_pred[y_pred > 0.5] = 0, 1\n",
    "print(\"Accuracy test set:\",  accuracy_score(y_test, y_pred))"
   ],
   "metadata": {
    "collapsed": false,
    "pycharm": {
     "name": "#%%\n"
    }
   }
  },
  {
   "cell_type": "markdown",
   "source": [
    "## III - Another approach with transfer learning for feature extraction"
   ],
   "metadata": {
    "collapsed": false,
    "pycharm": {
     "name": "#%% md\n"
    }
   }
  },
  {
   "cell_type": "code",
   "execution_count": 8,
   "outputs": [
    {
     "name": "stdout",
     "output_type": "stream",
     "text": [
      "WARNING:tensorflow:No training configuration found in the save file, so the model was *not* compiled. Compile it manually.\n"
     ]
    }
   ],
   "source": [
    "# pre trained model here\n",
    "\n",
    "#MNetV2 = MobileNetV2()\n",
    "MNetV2 = load_model(data_path + \"MNet_model.h5\")\n",
    "\n",
    "MNetV2_features_train = MNetV2.predict(X_train)\n",
    "MNetV2_features_test = MNetV2.predict(X_test)"
   ],
   "metadata": {
    "collapsed": false,
    "pycharm": {
     "name": "#%%\n"
    }
   }
  },
  {
   "cell_type": "code",
   "execution_count": 9,
   "outputs": [],
   "source": [
    "model2 = Sequential()\n",
    "model2.add(Flatten())\n",
    "model2.add(Dense(256, activation=\"relu\"))\n",
    "model2.add(Dropout(0.2))\n",
    "model2.add(Dense(1, activation=\"sigmoid\"))\n",
    "\n",
    "model2.compile(loss='binary_crossentropy', optimizer='adam', metrics=['accuracy'])"
   ],
   "metadata": {
    "collapsed": false,
    "pycharm": {
     "name": "#%%\n"
    }
   }
  },
  {
   "cell_type": "code",
   "execution_count": 10,
   "outputs": [
    {
     "name": "stdout",
     "output_type": "stream",
     "text": [
      "Epoch 1/50\n",
      "174/174 [==============================] - 1s 3ms/step - loss: 0.4504 - accuracy: 0.8608 - val_loss: 0.2772 - val_accuracy: 0.8921\n",
      "Epoch 2/50\n",
      "174/174 [==============================] - 0s 2ms/step - loss: 0.2275 - accuracy: 0.9124 - val_loss: 0.2242 - val_accuracy: 0.9165\n",
      "Epoch 3/50\n",
      "174/174 [==============================] - 0s 2ms/step - loss: 0.1835 - accuracy: 0.9293 - val_loss: 0.2100 - val_accuracy: 0.9226\n",
      "Epoch 4/50\n",
      "174/174 [==============================] - 0s 2ms/step - loss: 0.1621 - accuracy: 0.9392 - val_loss: 0.2047 - val_accuracy: 0.9267\n",
      "Epoch 5/50\n",
      "174/174 [==============================] - 0s 2ms/step - loss: 0.1453 - accuracy: 0.9452 - val_loss: 0.2013 - val_accuracy: 0.9277\n",
      "Epoch 6/50\n",
      "174/174 [==============================] - 0s 2ms/step - loss: 0.1337 - accuracy: 0.9495 - val_loss: 0.1996 - val_accuracy: 0.9267\n",
      "Epoch 7/50\n",
      "174/174 [==============================] - 0s 2ms/step - loss: 0.1250 - accuracy: 0.9549 - val_loss: 0.1995 - val_accuracy: 0.9277\n",
      "Epoch 8/50\n",
      "174/174 [==============================] - 0s 2ms/step - loss: 0.1155 - accuracy: 0.9570 - val_loss: 0.1959 - val_accuracy: 0.9297\n",
      "Epoch 9/50\n",
      "174/174 [==============================] - 0s 2ms/step - loss: 0.1070 - accuracy: 0.9617 - val_loss: 0.1961 - val_accuracy: 0.9297\n",
      "Epoch 10/50\n",
      "174/174 [==============================] - 0s 2ms/step - loss: 0.1002 - accuracy: 0.9642 - val_loss: 0.1966 - val_accuracy: 0.9277\n"
     ]
    },
    {
     "data": {
      "text/plain": "<Figure size 504x504 with 1 Axes>",
      "image/png": "[encoded data removed]"
     },
     "metadata": {
      "needs_background": "light"
     },
     "output_type": "display_data"
    }
   ],
   "source": [
    "hist2 = model2.fit(MNetV2_features_train, y_train, epochs=50, validation_split=.15, callbacks=callback(\"MNetDNN\")).history\n",
    "show_result(hist2)"
   ],
   "metadata": {
    "collapsed": false,
    "pycharm": {
     "name": "#%%\n"
    }
   }
  },
  {
   "cell_type": "code",
   "execution_count": 11,
   "outputs": [
    {
     "name": "stdout",
     "output_type": "stream",
     "text": [
      "Accuracy test set: 0.9297495418448382\n"
     ]
    }
   ],
   "source": [
    "model2 = load_model(data_path + \"MNetDNN_model.h5\")\n",
    "y_pred = model2.predict(MNetV2_features_test)\n",
    "y_pred[y_pred <= 0.5], y_pred[y_pred > 0.5] = 0, 1\n",
    "print(\"Accuracy test set:\",  accuracy_score(y_test, y_pred))"
   ],
   "metadata": {
    "collapsed": false,
    "pycharm": {
     "name": "#%%\n"
    }
   }
  },
  {
   "cell_type": "markdown",
   "source": [
    "## Finally train the best model on the train-test"
   ],
   "metadata": {
    "collapsed": false,
    "pycharm": {
     "name": "#%% md\n"
    }
   }
  },
  {
   "cell_type": "code",
   "execution_count": 19,
   "outputs": [],
   "source": [
    "X_combined = np.vstack((X_train, X_test))\n",
    "y_combined = np.hstack((y_train, y_test))\n",
    "\n",
    "MNetV2_features = MNetV2.predict(X_combined)"
   ],
   "metadata": {
    "collapsed": false,
    "pycharm": {
     "name": "#%%\n"
    }
   }
  },
  {
   "cell_type": "code",
   "execution_count": 20,
   "outputs": [
    {
     "name": "stdout",
     "output_type": "stream",
     "text": [
      "Epoch 1/50\n",
      "218/218 [==============================] - 1s 4ms/step - loss: 0.1273 - accuracy: 0.9537 - val_loss: 0.1861 - val_accuracy: 0.9324\n",
      "Epoch 2/50\n",
      "218/218 [==============================] - 0s 2ms/step - loss: 0.1158 - accuracy: 0.9592 - val_loss: 0.1883 - val_accuracy: 0.9324\n",
      "Epoch 3/50\n",
      "218/218 [==============================] - 0s 2ms/step - loss: 0.1077 - accuracy: 0.9615 - val_loss: 0.1811 - val_accuracy: 0.9365\n",
      "Epoch 4/50\n",
      "218/218 [==============================] - 0s 2ms/step - loss: 0.1023 - accuracy: 0.9635 - val_loss: 0.1854 - val_accuracy: 0.9365\n",
      "Epoch 5/50\n",
      "218/218 [==============================] - 1s 2ms/step - loss: 0.0956 - accuracy: 0.9663 - val_loss: 0.1871 - val_accuracy: 0.9340\n"
     ]
    },
    {
     "data": {
      "text/plain": "<Figure size 504x504 with 1 Axes>",
      "image/png": "[encoded data removed]"
     },
     "metadata": {
      "needs_background": "light"
     },
     "output_type": "display_data"
    }
   ],
   "source": [
    "hist2 = model2.fit(MNetV2_features, y_combined, epochs=50, validation_split=.15, callbacks=callback(\"MNetDNN\")).history\n",
    "show_result(hist2)"
   ],
   "metadata": {
    "collapsed": false,
    "pycharm": {
     "name": "#%%\n"
    }
   }
  },
  {
   "cell_type": "markdown",
   "source": [],
   "metadata": {
    "collapsed": false,
    "pycharm": {
     "name": "#%% md\n"
    }
   }
  }
 ],
 "metadata": {
  "kernelspec": {
   "display_name": "Python 3",
   "language": "python",
   "name": "python3"
  },
  "language_info": {
   "codemirror_mode": {
    "name": "ipython",
    "version": 2
   },
   "file_extension": ".py",
   "mimetype": "text/x-python",
   "name": "python",
   "nbconvert_exporter": "python",
   "pygments_lexer": "ipython2",
   "version": "2.7.6"
  }
 },
 "nbformat": 4,
 "nbformat_minor": 0
}