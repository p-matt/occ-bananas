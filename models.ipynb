{
 "cells": [
  {
   "cell_type": "code",
   "execution_count": 13,
   "metadata": {
    "collapsed": true
   },
   "outputs": [],
   "source": [
    "import pickle\n",
    "import numpy as np\n",
    "from keras.applications.mobilenet_v2 import MobileNetV2\n",
    "from keras.models import Sequential, load_model\n",
    "from keras.layers import Conv2D, MaxPooling2D, Flatten, Dense, Dropout\n",
    "from keras.callbacks import EarlyStopping, ModelCheckpoint\n",
    "import matplotlib.pyplot as plt\n",
    "import seaborn as sns\n",
    "from sklearn.metrics import accuracy_score"
   ]
  },
  {
   "cell_type": "code",
   "execution_count": 2,
   "outputs": [],
   "source": [
    "# declare fews variables\n",
    "\n",
    "data_path = \"data/\"\n",
    "image_shape = (224, 224, 3)\n",
    "epochs = 50\n",
    "callback = lambda x: [EarlyStopping(monitor='val_loss', patience=2, mode=\"min\"), ModelCheckpoint(filepath=f\"{data_path}{x}_model.h5\", monitor='val_loss', save_best_only=True)]"
   ],
   "metadata": {
    "collapsed": false,
    "pycharm": {
     "name": "#%%\n"
    }
   }
  },
  {
   "cell_type": "code",
   "execution_count": 3,
   "outputs": [],
   "source": [
    "# helper function\n",
    "\n",
    "def show_result(steps: dict):\n",
    "    \"\"\"\n",
    "    Used to display model's results after his training\n",
    "    :param steps: contains all the history of the training model\n",
    "    \"\"\"\n",
    "    fig, ax = plt.subplots(figsize=(7, 7))\n",
    "    ax.set_title(\"Learning curves\")\n",
    "    ax.set(xlabel='Epochs', ylabel='Metrics')\n",
    "    sns.lineplot(x=range(len(steps[\"loss\"])), y=steps[\"loss\"], label=\"train loss\", ax=ax)\n",
    "    sns.lineplot(x=range(len(steps[\"loss\"])), y=steps[\"val_loss\"], label=\"val loss\", ax=ax)\n",
    "    sns.lineplot(x=range(len(steps[\"loss\"])), y=steps[\"accuracy\"], label=\"train accuracy\", ax=ax)\n",
    "    sns.lineplot(x=range(len(steps[\"loss\"])), y=steps[\"val_accuracy\"], label=\"val accuracy\", ax=ax)"
   ],
   "metadata": {
    "collapsed": false,
    "pycharm": {
     "name": "#%%\n"
    }
   }
  },
  {
   "cell_type": "markdown",
   "source": [
    "## I - Load data"
   ],
   "metadata": {
    "collapsed": false,
    "pycharm": {
     "name": "#%% md\n"
    }
   }
  },
  {
   "cell_type": "code",
   "execution_count": 4,
   "outputs": [],
   "source": [
    "with open(f'{data_path}train_test_split.pickle', 'rb') as handle:\n",
    "    data = pickle.load(handle)\n",
    "\n",
    "X_train, y_train = data[\"train\"]\n",
    "X_test, y_test = data[\"test\"]"
   ],
   "metadata": {
    "collapsed": false,
    "pycharm": {
     "name": "#%%\n"
    }
   }
  },
  {
   "cell_type": "markdown",
   "source": [
    "## II - Custom CNN model"
   ],
   "metadata": {
    "collapsed": false,
    "pycharm": {
     "name": "#%% md\n"
    }
   }
  },
  {
   "cell_type": "code",
   "execution_count": 5,
   "outputs": [],
   "source": [
    "model = Sequential()\n",
    "model.add(Conv2D(32, (3, 3), activation=\"relu\", input_shape=image_shape))\n",
    "model.add(MaxPooling2D((2, 2)))\n",
    "\n",
    "model.add(Conv2D(32, (3, 3), activation=\"relu\"))\n",
    "model.add(MaxPooling2D((2, 2)))\n",
    "\n",
    "model.add(Conv2D(64, (3, 3), activation=\"relu\"))\n",
    "model.add(MaxPooling2D(pool_size=(2, 2)))\n",
    "\n",
    "model.add(Flatten())\n",
    "\n",
    "model.add(Dense(64, activation=\"relu\"))\n",
    "model.add(Dropout(0.5))\n",
    "model.add(Dense(1, activation=\"sigmoid\"))\n",
    "\n",
    "model.compile(loss='binary_crossentropy', optimizer='adam', metrics=['accuracy'])"
   ],
   "metadata": {
    "collapsed": false,
    "pycharm": {
     "name": "#%%\n"
    }
   }
  },
  {
   "cell_type": "code",
   "execution_count": 6,
   "outputs": [
    {
     "name": "stdout",
     "output_type": "stream",
     "text": [
      "Epoch 1/50\n",
      "88/88 [==============================] - 67s 757ms/step - loss: 0.4090 - accuracy: 0.8278 - val_loss: 0.2302 - val_accuracy: 0.9253\n",
      "Epoch 2/50\n",
      "88/88 [==============================] - 67s 756ms/step - loss: 0.2040 - accuracy: 0.9307 - val_loss: 0.1161 - val_accuracy: 0.9677\n",
      "Epoch 3/50\n",
      "88/88 [==============================] - 67s 764ms/step - loss: 0.1893 - accuracy: 0.9471 - val_loss: 0.0997 - val_accuracy: 0.9636\n",
      "Epoch 4/50\n",
      "88/88 [==============================] - 64s 728ms/step - loss: 0.1535 - accuracy: 0.9411 - val_loss: 0.0869 - val_accuracy: 0.9616\n",
      "Epoch 5/50\n",
      "88/88 [==============================] - 66s 750ms/step - loss: 0.1238 - accuracy: 0.9621 - val_loss: 0.0858 - val_accuracy: 0.9636\n",
      "Epoch 6/50\n",
      "88/88 [==============================] - 64s 728ms/step - loss: 0.1121 - accuracy: 0.9675 - val_loss: 0.1077 - val_accuracy: 0.9556\n",
      "Epoch 7/50\n",
      "88/88 [==============================] - 68s 776ms/step - loss: 0.0975 - accuracy: 0.9700 - val_loss: 0.0885 - val_accuracy: 0.9657\n"
     ]
    },
    {
     "data": {
      "text/plain": "<Figure size 504x504 with 1 Axes>",
      "image/png": "[encoded data removed]"
     },
     "metadata": {
      "needs_background": "light"
     },
     "output_type": "display_data"
    }
   ],
   "source": [
    "hist = model.fit(X_train, y_train, epochs=50, validation_split=.15, callbacks=callback(\"CNet\"), verbose=1).history\n",
    "show_result(hist)"
   ],
   "metadata": {
    "collapsed": false,
    "pycharm": {
     "name": "#%%\n"
    }
   }
  },
  {
   "cell_type": "code",
   "execution_count": 26,
   "outputs": [],
   "source": [
    "y_pred = model.predict(X_test)\n",
    "y_pred[y_pred <= 0.5], y_pred[y_pred > 0.5] = 0, 1"
   ],
   "metadata": {
    "collapsed": false,
    "pycharm": {
     "name": "#%%\n"
    }
   }
  },
  {
   "cell_type": "code",
   "execution_count": 27,
   "outputs": [
    {
     "name": "stdout",
     "output_type": "stream",
     "text": [
      "Accuracy test set: 0.9635922330097088\n"
     ]
    }
   ],
   "source": [
    "model = load_model(data_path + \"CNet_model.h5\")\n",
    "print(\"Accuracy test set:\",  accuracy_score(y_test, y_pred))"
   ],
   "metadata": {
    "collapsed": false,
    "pycharm": {
     "name": "#%%\n"
    }
   }
  },
  {
   "cell_type": "markdown",
   "source": [
    "## III - Another approach with transfer learning for feature extraction"
   ],
   "metadata": {
    "collapsed": false,
    "pycharm": {
     "name": "#%% md\n"
    }
   }
  },
  {
   "cell_type": "code",
   "execution_count": 28,
   "outputs": [],
   "source": [
    "# pre trained model here\n",
    "\n",
    "MNetV2 = MobileNetV2()\n",
    "\n",
    "MNetV2_features_train = MNetV2.predict(X_train)\n",
    "MNetV2_features_test = MNetV2.predict(X_test)"
   ],
   "metadata": {
    "collapsed": false,
    "pycharm": {
     "name": "#%%\n"
    }
   }
  },
  {
   "cell_type": "code",
   "execution_count": 29,
   "outputs": [],
   "source": [
    "model2 = Sequential()\n",
    "model2.add(Flatten())\n",
    "model2.add(Dense(256, activation=\"relu\"))\n",
    "model2.add(Dropout(0.2))\n",
    "model2.add(Dense(1, activation=\"sigmoid\"))\n",
    "\n",
    "model2.compile(loss='binary_crossentropy', optimizer='adam', metrics=['accuracy'])"
   ],
   "metadata": {
    "collapsed": false,
    "pycharm": {
     "name": "#%%\n"
    }
   }
  },
  {
   "cell_type": "code",
   "execution_count": 30,
   "outputs": [
    {
     "name": "stdout",
     "output_type": "stream",
     "text": [
      "Epoch 1/50\n",
      "88/88 [==============================] - 1s 3ms/step - loss: 0.5297 - accuracy: 0.9053 - val_loss: 0.3046 - val_accuracy: 0.9677\n",
      "Epoch 2/50\n",
      "88/88 [==============================] - 0s 2ms/step - loss: 0.2012 - accuracy: 0.9603 - val_loss: 0.1184 - val_accuracy: 0.9677\n",
      "Epoch 3/50\n",
      "88/88 [==============================] - 0s 2ms/step - loss: 0.1109 - accuracy: 0.9707 - val_loss: 0.0842 - val_accuracy: 0.9737\n",
      "Epoch 4/50\n",
      "88/88 [==============================] - 0s 2ms/step - loss: 0.0851 - accuracy: 0.9750 - val_loss: 0.0765 - val_accuracy: 0.9758\n",
      "Epoch 5/50\n",
      "88/88 [==============================] - 0s 2ms/step - loss: 0.0715 - accuracy: 0.9800 - val_loss: 0.0710 - val_accuracy: 0.9778\n",
      "Epoch 6/50\n",
      "88/88 [==============================] - 0s 2ms/step - loss: 0.0611 - accuracy: 0.9829 - val_loss: 0.0725 - val_accuracy: 0.9758\n",
      "Epoch 7/50\n",
      "88/88 [==============================] - 0s 2ms/step - loss: 0.0538 - accuracy: 0.9868 - val_loss: 0.0722 - val_accuracy: 0.9758\n"
     ]
    },
    {
     "data": {
      "text/plain": "<Figure size 504x504 with 1 Axes>",
      "image/png": "[encoded data removed]"
     },
     "metadata": {
      "needs_background": "light"
     },
     "output_type": "display_data"
    }
   ],
   "source": [
    "hist2 = model2.fit(MNetV2_features_train, y_train, epochs=50, validation_split=.15, callbacks=callback(\"MNet\")).history\n",
    "show_result(hist2)"
   ],
   "metadata": {
    "collapsed": false,
    "pycharm": {
     "name": "#%%\n"
    }
   }
  },
  {
   "cell_type": "code",
   "execution_count": 31,
   "outputs": [
    {
     "name": "stdout",
     "output_type": "stream",
     "text": [
      "Accuracy test set: 0.9720873786407767\n"
     ]
    }
   ],
   "source": [
    "y_pred = model2.predict(MNetV2_features_test)\n",
    "y_pred[y_pred <= 0.5], y_pred[y_pred > 0.5] = 0, 1\n",
    "model2 = load_model(data_path + \"MNet_model.h5\")\n",
    "print(\"Accuracy test set:\",  accuracy_score(y_test, y_pred))"
   ],
   "metadata": {
    "collapsed": false,
    "pycharm": {
     "name": "#%%\n"
    }
   }
  }
 ],
 "metadata": {
  "kernelspec": {
   "display_name": "Python 3",
   "language": "python",
   "name": "python3"
  },
  "language_info": {
   "codemirror_mode": {
    "name": "ipython",
    "version": 2
   },
   "file_extension": ".py",
   "mimetype": "text/x-python",
   "name": "python",
   "nbconvert_exporter": "python",
   "pygments_lexer": "ipython2",
   "version": "2.7.6"
  }
 },
 "nbformat": 4,
 "nbformat_minor": 0
}